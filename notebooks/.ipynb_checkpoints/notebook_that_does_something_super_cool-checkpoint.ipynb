{
 "cells": [
  {
   "cell_type": "markdown",
   "id": "9236e244-0490-4d06-a2a9-845893fb5017",
   "metadata": {},
   "source": [
    "# notebook_that_does_something_super_cool.ipynb"
   ]
  },
  {
   "cell_type": "markdown",
   "id": "fcac4581-f3f1-48d6-b64f-922fa0c235ae",
   "metadata": {},
   "source": [
    "### List of librairies"
   ]
  },
  {
   "cell_type": "code",
   "execution_count": null,
   "id": "77406d0f-0ece-44d7-a95a-d96d73349d48",
   "metadata": {},
   "outputs": [],
   "source": [
    "from watermark import watermark\n",
    "%load_ext watermark\n",
    "print(watermark())"
   ]
  },
  {
   "cell_type": "code",
   "execution_count": 3,
   "id": "02330c07-a103-42c4-9f17-ef7d946fe8f8",
   "metadata": {},
   "outputs": [],
   "source": [
    "import xarray as xr\n",
    "import matplotlib\n",
    "import cartopy"
   ]
  },
  {
   "cell_type": "code",
   "execution_count": 4,
   "id": "3d835e59-908b-4e9c-85d8-fc858fa5245b",
   "metadata": {},
   "outputs": [
    {
     "name": "stdout",
     "output_type": "stream",
     "text": [
      "xarray    : 2025.1.1\n",
      "watermark : 2.5.0\n",
      "matplotlib: 3.10.0\n",
      "cartopy   : 0.24.0\n",
      "\n"
     ]
    }
   ],
   "source": [
    "%watermark --iversions"
   ]
  },
  {
   "cell_type": "markdown",
   "id": "3686db9f-49ad-4142-8cb8-6246bcc92c2a",
   "metadata": {},
   "source": [
    "# "
   ]
  },
  {
   "cell_type": "markdown",
   "id": "4d325df3-8751-4f37-bcca-b5cf557b2000",
   "metadata": {},
   "source": [
    "# "
   ]
  },
  {
   "cell_type": "markdown",
   "id": "e5b4dfa2-08b9-48f8-9d4e-cb3493bf51e8",
   "metadata": {},
   "source": [
    "# "
   ]
  }
 ],
 "metadata": {
  "kernelspec": {
   "display_name": "Python 3 (ipykernel)",
   "language": "python",
   "name": "python3"
  },
  "language_info": {
   "codemirror_mode": {
    "name": "ipython",
    "version": 3
   },
   "file_extension": ".py",
   "mimetype": "text/x-python",
   "name": "python",
   "nbconvert_exporter": "python",
   "pygments_lexer": "ipython3",
   "version": "3.12.8"
  }
 },
 "nbformat": 4,
 "nbformat_minor": 5
}
